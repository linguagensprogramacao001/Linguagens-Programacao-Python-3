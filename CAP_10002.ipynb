{
 "cells": [
  {
   "cell_type": "markdown",
   "id": "spiritual-importance",
   "metadata": {},
   "source": [
    "# 2. Expressões"
   ]
  },
  {
   "cell_type": "code",
   "execution_count": 2,
   "id": "dried-adrian",
   "metadata": {},
   "outputs": [],
   "source": [
    "R = 42\n",
    "PI = 3.14"
   ]
  },
  {
   "cell_type": "markdown",
   "id": "substantial-passing",
   "metadata": {},
   "source": [
    "## Soma"
   ]
  },
  {
   "cell_type": "code",
   "execution_count": 3,
   "id": "humanitarian-projection",
   "metadata": {},
   "outputs": [
    {
     "data": {
      "text/plain": [
       "45.14"
      ]
     },
     "execution_count": 3,
     "metadata": {},
     "output_type": "execute_result"
    }
   ],
   "source": [
    "R + PI"
   ]
  },
  {
   "cell_type": "markdown",
   "id": "transsexual-nebraska",
   "metadata": {},
   "source": [
    "## Subtração"
   ]
  },
  {
   "cell_type": "code",
   "execution_count": 5,
   "id": "central-minimum",
   "metadata": {},
   "outputs": [
    {
     "data": {
      "text/plain": [
       "38.86"
      ]
     },
     "execution_count": 5,
     "metadata": {},
     "output_type": "execute_result"
    }
   ],
   "source": [
    "R - PI"
   ]
  },
  {
   "cell_type": "markdown",
   "id": "frequent-transfer",
   "metadata": {},
   "source": [
    "## Multiplicação"
   ]
  },
  {
   "cell_type": "code",
   "execution_count": 4,
   "id": "noticed-gender",
   "metadata": {},
   "outputs": [
    {
     "data": {
      "text/plain": [
       "131.88"
      ]
     },
     "execution_count": 4,
     "metadata": {},
     "output_type": "execute_result"
    }
   ],
   "source": [
    "R * PI"
   ]
  },
  {
   "cell_type": "markdown",
   "id": "white-guidance",
   "metadata": {},
   "source": [
    "## Divisão"
   ]
  },
  {
   "cell_type": "code",
   "execution_count": 6,
   "id": "optimum-david",
   "metadata": {},
   "outputs": [
    {
     "data": {
      "text/plain": [
       "13.375796178343949"
      ]
     },
     "execution_count": 6,
     "metadata": {},
     "output_type": "execute_result"
    }
   ],
   "source": [
    "R / PI"
   ]
  },
  {
   "cell_type": "markdown",
   "id": "breeding-onion",
   "metadata": {},
   "source": [
    "## Potênciação"
   ]
  },
  {
   "cell_type": "code",
   "execution_count": 7,
   "id": "express-springfield",
   "metadata": {},
   "outputs": [
    {
     "data": {
      "text/plain": [
       "125026.7009920332"
      ]
     },
     "execution_count": 7,
     "metadata": {},
     "output_type": "execute_result"
    }
   ],
   "source": [
    "R**PI"
   ]
  },
  {
   "cell_type": "markdown",
   "id": "primary-information",
   "metadata": {},
   "source": [
    "### Exemplo:"
   ]
  },
  {
   "cell_type": "code",
   "execution_count": 11,
   "id": "chicken-medicare",
   "metadata": {},
   "outputs": [
    {
     "data": {
      "text/plain": [
       "131.88"
      ]
     },
     "execution_count": 11,
     "metadata": {},
     "output_type": "execute_result"
    }
   ],
   "source": [
    "RESULTADO = (R * PI)\n",
    "RESULTADO"
   ]
  },
  {
   "cell_type": "code",
   "execution_count": null,
   "id": "living-water",
   "metadata": {},
   "outputs": [],
   "source": []
  }
 ],
 "metadata": {
  "kernelspec": {
   "display_name": "Python 3",
   "language": "python",
   "name": "python3"
  },
  "language_info": {
   "codemirror_mode": {
    "name": "ipython",
    "version": 3
   },
   "file_extension": ".py",
   "mimetype": "text/x-python",
   "name": "python",
   "nbconvert_exporter": "python",
   "pygments_lexer": "ipython3",
   "version": "3.8.3"
  }
 },
 "nbformat": 4,
 "nbformat_minor": 5
}
